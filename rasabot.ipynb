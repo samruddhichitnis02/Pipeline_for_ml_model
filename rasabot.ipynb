{
 "cells": [
  {
   "cell_type": "code",
   "execution_count": 2,
   "metadata": {},
   "outputs": [
    {
     "name": "stdout",
     "output_type": "stream",
     "text": [
      "showing info https://raw.githubusercontent.com/nltk/nltk_data/gh-pages/index.xml\n"
     ]
    },
    {
     "data": {
      "text/plain": [
       "True"
      ]
     },
     "execution_count": 2,
     "metadata": {},
     "output_type": "execute_result"
    }
   ],
   "source": [
    "import nltk\n",
    "nltk.download()"
   ]
  },
  {
   "cell_type": "code",
   "execution_count": 1,
   "metadata": {
    "colab": {
     "base_uri": "https://localhost:8080/",
     "height": 1000
    },
    "colab_type": "code",
    "id": "Z9zbqCWJ8z74",
    "outputId": "a7c53ba0-0178-4964-9521-b691e8f429ed",
    "scrolled": true
   },
   "outputs": [],
   "source": [
    "import pandas as pd\n",
    "import numpy as np\n",
    "import json\n",
    "import re\n",
    "\n",
    "from sklearn.preprocessing import LabelEncoder\n",
    "from sklearn.model_selection import train_test_split\n",
    "from nltk.corpus import stopwords\n",
    "from nltk.tokenize import word_tokenize\n",
    "from nltk.stem.snowball import SnowballStemmer\n",
    "\n",
    "import warnings\n",
    "warnings.filterwarnings('ignore')"
   ]
  },
  {
   "cell_type": "markdown",
   "metadata": {},
   "source": [
    "# Intent Classification"
   ]
  },
  {
   "cell_type": "code",
   "execution_count": 2,
   "metadata": {
    "colab": {},
    "colab_type": "code",
    "id": "qQru9beg84Vc"
   },
   "outputs": [],
   "source": [
    "with open('data/data.json') as f:\n",
    "        data = json.load(f)"
   ]
  },
  {
   "cell_type": "code",
   "execution_count": 3,
   "metadata": {
    "colab": {},
    "colab_type": "code",
    "id": "6i-xxDnn883U"
   },
   "outputs": [],
   "source": [
    "for i in range(len(data)):\n",
    "  examples = data['rasa_nlu_data']['common_examples']"
   ]
  },
  {
   "cell_type": "code",
   "execution_count": 4,
   "metadata": {
    "colab": {
     "base_uri": "https://localhost:8080/",
     "height": 35
    },
    "colab_type": "code",
    "id": "JV7xA6Jq-pbW",
    "outputId": "1428bed7-c6e5-4ca1-843a-e6a77199b8b3"
   },
   "outputs": [
    {
     "data": {
      "text/plain": [
       "'hey there'"
      ]
     },
     "execution_count": 4,
     "metadata": {},
     "output_type": "execute_result"
    }
   ],
   "source": [
    "examples[3]['text']"
   ]
  },
  {
   "cell_type": "code",
   "execution_count": 5,
   "metadata": {
    "colab": {},
    "colab_type": "code",
    "id": "PRzeKn0qA_Ng"
   },
   "outputs": [],
   "source": [
    "text = [ ]\n",
    "for i in range(len(examples)):\n",
    "  text.append(examples[i]['text'])"
   ]
  },
  {
   "cell_type": "code",
   "execution_count": 6,
   "metadata": {
    "colab": {
     "base_uri": "https://localhost:8080/",
     "height": 35
    },
    "colab_type": "code",
    "id": "jm4N8BaQF_Wx",
    "outputId": "e44503c5-afcd-4695-93dc-493c8d27ade3"
   },
   "outputs": [
    {
     "data": {
      "text/plain": [
       "'greet'"
      ]
     },
     "execution_count": 6,
     "metadata": {},
     "output_type": "execute_result"
    }
   ],
   "source": [
    "examples[2]['intent']"
   ]
  },
  {
   "cell_type": "code",
   "execution_count": 7,
   "metadata": {
    "colab": {
     "base_uri": "https://localhost:8080/",
     "height": 235
    },
    "colab_type": "code",
    "id": "AWkd9BzfCJQX",
    "outputId": "a1310798-6631-4542-c6d3-52fbbd47b59a",
    "scrolled": true
   },
   "outputs": [
    {
     "data": {
      "text/plain": [
       "['Hello',\n",
       " 'Hi',\n",
       " 'hey',\n",
       " 'hey there',\n",
       " 'What is the fellowship program?',\n",
       " 'How long is the fellowship program?',\n",
       " 'How much does fellowship program cost?',\n",
       " 'Can the fellowship program be done remotely?',\n",
       " 'How do i reach to bridgelabz',\n",
       " 'What is the working hours of the training program?',\n",
       " 'How do I get in?',\n",
       " 'How do I register for the fellowship program?',\n",
       " 'Do fellowship program offer any stipend or living accommodations?',\n",
       " 'Do fellowship program offer any package or living accommodations?',\n",
       " 'What is the minimum qualification for the fellowship program?',\n",
       " 'What can I expect in the technical interview?',\n",
       " 'What can fellowship engineer expect in the technical interview?',\n",
       " 'What happens to fellows after they graduate?',\n",
       " 'How much package I get after the fellowship program?',\n",
       " 'What will be my starting salary?',\n",
       " 'What type of projects will the fellowship engineers get a chance to work on?',\n",
       " 'What does the day-to-day look like?',\n",
       " 'What percentage of the fellowship is developing real-world apps?',\n",
       " 'What tools will I get a chance to learn?',\n",
       " 'What tools will fellowship engineer get a chance to learn?',\n",
       " 'how much time will take to complete fellowship program?',\n",
       " 'Do I need to pay for fellowship program?',\n",
       " 'what is the duration of the fellowship program?',\n",
       " 'What tools will I get a chance to work on?',\n",
       " 'What tools will fellowship engineer get a chance to work on?',\n",
       " 'Where training will be held?',\n",
       " 'How do I get admission in training program?',\n",
       " 'What is the working hours of the training program?',\n",
       " 'Do I get any living accommodations?',\n",
       " 'What are the Relocation options provide by the Bridgelabz',\n",
       " 'For Relocation bridgelabz will provide any support',\n",
       " 'Is this fellowship program applicable for Experienced persons',\n",
       " 'good bye',\n",
       " 'bye',\n",
       " 'bye bye',\n",
       " 'see ya',\n",
       " 'see you later',\n",
       " 'Ok',\n",
       " 'yes please']"
      ]
     },
     "execution_count": 7,
     "metadata": {},
     "output_type": "execute_result"
    }
   ],
   "source": [
    "text"
   ]
  },
  {
   "cell_type": "code",
   "execution_count": 8,
   "metadata": {
    "colab": {},
    "colab_type": "code",
    "id": "I_FMLMyXGFn6"
   },
   "outputs": [],
   "source": [
    "intents = [ ]\n",
    "for i in range(len(examples)):\n",
    "  intents.append(examples[i]['intent'])\n"
   ]
  },
  {
   "cell_type": "code",
   "execution_count": 9,
   "metadata": {
    "colab": {
     "base_uri": "https://localhost:8080/",
     "height": 235
    },
    "colab_type": "code",
    "id": "h5sCQed4Gns9",
    "outputId": "3e196292-dcfc-4088-f359-45790db22fce",
    "scrolled": true
   },
   "outputs": [
    {
     "data": {
      "text/plain": [
       "['greet',\n",
       " 'greet',\n",
       " 'greet',\n",
       " 'greet',\n",
       " 'information',\n",
       " 'details',\n",
       " 'details',\n",
       " 'details',\n",
       " 'details',\n",
       " 'details',\n",
       " 'hiringprocess',\n",
       " 'hiringprocess',\n",
       " 'details',\n",
       " 'details',\n",
       " 'hiringdetails',\n",
       " 'hiringdetails',\n",
       " 'hiringdetails',\n",
       " 'information',\n",
       " 'details',\n",
       " 'details',\n",
       " 'projects',\n",
       " 'information',\n",
       " 'details',\n",
       " 'details',\n",
       " 'details',\n",
       " 'details',\n",
       " 'details',\n",
       " 'details',\n",
       " 'details',\n",
       " 'details',\n",
       " 'details',\n",
       " 'hiringprocess',\n",
       " 'details',\n",
       " 'details',\n",
       " 'details',\n",
       " 'details',\n",
       " 'hiringdetails',\n",
       " 'good bye',\n",
       " 'good bye',\n",
       " 'good bye',\n",
       " 'good bye',\n",
       " 'good bye',\n",
       " 'Affirmative',\n",
       " 'Affirmative']"
      ]
     },
     "execution_count": 9,
     "metadata": {},
     "output_type": "execute_result"
    }
   ],
   "source": [
    "intents"
   ]
  },
  {
   "cell_type": "code",
   "execution_count": 10,
   "metadata": {
    "colab": {},
    "colab_type": "code",
    "id": "sxA9HYzWGony"
   },
   "outputs": [],
   "source": [
    "lb = LabelEncoder()\n",
    "Y = lb.fit_transform(intents)"
   ]
  },
  {
   "cell_type": "code",
   "execution_count": 11,
   "metadata": {
    "colab": {
     "base_uri": "https://localhost:8080/",
     "height": 35
    },
    "colab_type": "code",
    "id": "Ezs1MfFWH7o0",
    "outputId": "6429400a-db92-4735-a938-41433a501eb9"
   },
   "outputs": [
    {
     "data": {
      "text/plain": [
       "array([3, 3, 3, 3, 6, 1, 1, 1, 1, 1, 5, 5, 1, 1, 4, 4, 4, 6, 1, 1, 7, 6,\n",
       "       1, 1, 1, 1, 1, 1, 1, 1, 1, 5, 1, 1, 1, 1, 4, 2, 2, 2, 2, 2, 0, 0])"
      ]
     },
     "execution_count": 11,
     "metadata": {},
     "output_type": "execute_result"
    }
   ],
   "source": [
    "Y"
   ]
  },
  {
   "cell_type": "code",
   "execution_count": 12,
   "metadata": {
    "colab": {},
    "colab_type": "code",
    "id": "q9_VWq5NIAHs"
   },
   "outputs": [],
   "source": [
    "data = pd.DataFrame(text)"
   ]
  },
  {
   "cell_type": "code",
   "execution_count": 13,
   "metadata": {
    "colab": {
     "base_uri": "https://localhost:8080/",
     "height": 198
    },
    "colab_type": "code",
    "id": "d0Q9vabuJF8v",
    "outputId": "3e5a265c-24de-4ea3-bbc8-76b431db9991"
   },
   "outputs": [
    {
     "data": {
      "text/html": [
       "<div>\n",
       "<style scoped>\n",
       "    .dataframe tbody tr th:only-of-type {\n",
       "        vertical-align: middle;\n",
       "    }\n",
       "\n",
       "    .dataframe tbody tr th {\n",
       "        vertical-align: top;\n",
       "    }\n",
       "\n",
       "    .dataframe thead th {\n",
       "        text-align: right;\n",
       "    }\n",
       "</style>\n",
       "<table border=\"1\" class=\"dataframe\">\n",
       "  <thead>\n",
       "    <tr style=\"text-align: right;\">\n",
       "      <th></th>\n",
       "      <th>0</th>\n",
       "    </tr>\n",
       "  </thead>\n",
       "  <tbody>\n",
       "    <tr>\n",
       "      <th>0</th>\n",
       "      <td>Hello</td>\n",
       "    </tr>\n",
       "    <tr>\n",
       "      <th>1</th>\n",
       "      <td>Hi</td>\n",
       "    </tr>\n",
       "    <tr>\n",
       "      <th>2</th>\n",
       "      <td>hey</td>\n",
       "    </tr>\n",
       "    <tr>\n",
       "      <th>3</th>\n",
       "      <td>hey there</td>\n",
       "    </tr>\n",
       "    <tr>\n",
       "      <th>4</th>\n",
       "      <td>What is the fellowship program?</td>\n",
       "    </tr>\n",
       "  </tbody>\n",
       "</table>\n",
       "</div>"
      ],
      "text/plain": [
       "                                 0\n",
       "0                            Hello\n",
       "1                               Hi\n",
       "2                              hey\n",
       "3                        hey there\n",
       "4  What is the fellowship program?"
      ]
     },
     "execution_count": 13,
     "metadata": {},
     "output_type": "execute_result"
    }
   ],
   "source": [
    "data.head()"
   ]
  },
  {
   "cell_type": "code",
   "execution_count": 14,
   "metadata": {
    "colab": {},
    "colab_type": "code",
    "id": "QAOihR6_Jxf1"
   },
   "outputs": [],
   "source": [
    "corpus = [ ]\n",
    "for i in range(len(data)):\n",
    "  text = re.sub('[^a-z,A-Z]',  ' ', data[0][i])\n",
    "  text = text.lower()\n",
    "  text = word_tokenize(text)\n",
    "  stemmer = SnowballStemmer('english')\n",
    "  stop_words = stopwords.words('english')\n",
    "  text = [stemmer.stem(w) for w in text if w not in stop_words]\n",
    "  text = ' '.join(text)\n",
    "\n",
    "  corpus.append(text)"
   ]
  },
  {
   "cell_type": "code",
   "execution_count": 15,
   "metadata": {
    "colab": {
     "base_uri": "https://localhost:8080/",
     "height": 235
    },
    "colab_type": "code",
    "id": "OtvgpwzeLKnS",
    "outputId": "6a345b80-a21f-40e9-b8bf-b1eb9a17e90b",
    "scrolled": true
   },
   "outputs": [
    {
     "data": {
      "text/plain": [
       "['hello',\n",
       " 'hi',\n",
       " 'hey',\n",
       " 'hey',\n",
       " 'fellowship program',\n",
       " 'long fellowship program',\n",
       " 'much fellowship program cost',\n",
       " 'fellowship program done remot',\n",
       " 'reach bridgelabz',\n",
       " 'work hour train program',\n",
       " 'get',\n",
       " 'regist fellowship program',\n",
       " 'fellowship program offer stipend live accommod',\n",
       " 'fellowship program offer packag live accommod',\n",
       " 'minimum qualif fellowship program',\n",
       " 'expect technic interview',\n",
       " 'fellowship engin expect technic interview',\n",
       " 'happen fellow graduat',\n",
       " 'much packag get fellowship program',\n",
       " 'start salari',\n",
       " 'type project fellowship engin get chanc work',\n",
       " 'day day look like',\n",
       " 'percentag fellowship develop real world app',\n",
       " 'tool get chanc learn',\n",
       " 'tool fellowship engin get chanc learn',\n",
       " 'much time take complet fellowship program',\n",
       " 'need pay fellowship program',\n",
       " 'durat fellowship program',\n",
       " 'tool get chanc work',\n",
       " 'tool fellowship engin get chanc work',\n",
       " 'train held',\n",
       " 'get admiss train program',\n",
       " 'work hour train program',\n",
       " 'get live accommod',\n",
       " 'reloc option provid bridgelabz',\n",
       " 'reloc bridgelabz provid support',\n",
       " 'fellowship program applic experienc person',\n",
       " 'good bye',\n",
       " 'bye',\n",
       " 'bye bye',\n",
       " 'see ya',\n",
       " 'see later',\n",
       " 'ok',\n",
       " 'yes pleas']"
      ]
     },
     "execution_count": 15,
     "metadata": {},
     "output_type": "execute_result"
    }
   ],
   "source": [
    "corpus"
   ]
  },
  {
   "cell_type": "code",
   "execution_count": 16,
   "metadata": {
    "colab": {
     "base_uri": "https://localhost:8080/",
     "height": 35
    },
    "colab_type": "code",
    "id": "-oAwSZxjLLUu",
    "outputId": "efbf5e40-68ae-4911-8517-53836c65752e"
   },
   "outputs": [
    {
     "data": {
      "text/plain": [
       "44"
      ]
     },
     "execution_count": 16,
     "metadata": {},
     "output_type": "execute_result"
    }
   ],
   "source": [
    "len(corpus)"
   ]
  },
  {
   "cell_type": "code",
   "execution_count": 17,
   "metadata": {
    "colab": {},
    "colab_type": "code",
    "id": "wdgm1BOxRGu1"
   },
   "outputs": [],
   "source": [
    "from sklearn.feature_extraction.text import CountVectorizer"
   ]
  },
  {
   "cell_type": "code",
   "execution_count": 18,
   "metadata": {
    "colab": {},
    "colab_type": "code",
    "id": "2BwnF5iiRSeM"
   },
   "outputs": [],
   "source": [
    "cv = CountVectorizer()"
   ]
  },
  {
   "cell_type": "code",
   "execution_count": 19,
   "metadata": {
    "colab": {},
    "colab_type": "code",
    "id": "f4r1Wz6kRbJX"
   },
   "outputs": [],
   "source": [
    "X = cv.fit_transform(corpus).toarray()"
   ]
  },
  {
   "cell_type": "code",
   "execution_count": 20,
   "metadata": {
    "colab": {
     "base_uri": "https://localhost:8080/",
     "height": 235
    },
    "colab_type": "code",
    "id": "L9F5s6GKRf9I",
    "outputId": "bbb47034-b390-4e08-b601-a0b454cbaea4"
   },
   "outputs": [
    {
     "data": {
      "text/plain": [
       "array([[0, 0, 0, ..., 0, 0, 0],\n",
       "       [0, 0, 0, ..., 0, 0, 0],\n",
       "       [0, 0, 0, ..., 0, 0, 0],\n",
       "       ...,\n",
       "       [0, 0, 0, ..., 0, 0, 0],\n",
       "       [0, 0, 0, ..., 0, 0, 0],\n",
       "       [0, 0, 0, ..., 0, 0, 1]])"
      ]
     },
     "execution_count": 20,
     "metadata": {},
     "output_type": "execute_result"
    }
   ],
   "source": [
    "X"
   ]
  },
  {
   "cell_type": "code",
   "execution_count": 21,
   "metadata": {
    "colab": {
     "base_uri": "https://localhost:8080/",
     "height": 35
    },
    "colab_type": "code",
    "id": "s_9eqeMJRgo3",
    "outputId": "4e51f6a3-afbe-45cd-d238-23764cccc858",
    "scrolled": true
   },
   "outputs": [
    {
     "data": {
      "text/plain": [
       "((44, 69), (44,))"
      ]
     },
     "execution_count": 21,
     "metadata": {},
     "output_type": "execute_result"
    }
   ],
   "source": [
    "X.shape, Y.shape"
   ]
  },
  {
   "cell_type": "code",
   "execution_count": 22,
   "metadata": {},
   "outputs": [],
   "source": [
    "x_train, x_test, y_train, y_test = train_test_split(X, Y, \n",
    "                                                    test_size = 0.2, \n",
    "                                                   random_state = 0)"
   ]
  },
  {
   "cell_type": "code",
   "execution_count": 23,
   "metadata": {},
   "outputs": [
    {
     "data": {
      "text/plain": [
       "((35, 69), (9, 69), (35,), (9,))"
      ]
     },
     "execution_count": 23,
     "metadata": {},
     "output_type": "execute_result"
    }
   ],
   "source": [
    "x_train.shape, x_test.shape, y_train.shape, y_test.shape"
   ]
  },
  {
   "cell_type": "code",
   "execution_count": 24,
   "metadata": {
    "colab": {},
    "colab_type": "code",
    "id": "OuQA0nJARiv2"
   },
   "outputs": [],
   "source": [
    "from sklearn.svm import SVC\n",
    "from sklearn.model_selection import GridSearchCV\n",
    "from sklearn.metrics import classification_report"
   ]
  },
  {
   "cell_type": "code",
   "execution_count": 25,
   "metadata": {
    "colab": {
     "base_uri": "https://localhost:8080/",
     "height": 146
    },
    "colab_type": "code",
    "id": "5XbjZTEqj0Td",
    "outputId": "2da67cfe-f535-4d4c-d9fc-34f812159a36"
   },
   "outputs": [
    {
     "data": {
      "text/plain": [
       "SVC(C=1.0, cache_size=200, class_weight=None, coef0=0.0,\n",
       "    decision_function_shape='ovr', degree=3, gamma='auto_deprecated',\n",
       "    kernel='rbf', max_iter=-1, probability=False, random_state=None,\n",
       "    shrinking=True, tol=0.001, verbose=False)"
      ]
     },
     "execution_count": 25,
     "metadata": {},
     "output_type": "execute_result"
    }
   ],
   "source": [
    "classifier = SVC()\n",
    "classifier.fit(x_train, y_train)"
   ]
  },
  {
   "cell_type": "code",
   "execution_count": 26,
   "metadata": {
    "colab": {},
    "colab_type": "code",
    "id": "b9C92AhVkERl"
   },
   "outputs": [],
   "source": [
    "parameters = [{'C': [1,10,100, 1000], 'kernel': ['linear']},\n",
    "             {'C' : [1,10,100,1000], 'kernel': ['rbf'], 'gamma' : [0.5, 0.1, 0.01, 0.001]}]\n",
    "\n",
    "grid_search = GridSearchCV(estimator = classifier,\n",
    "                          param_grid = parameters,\n",
    "                          scoring = 'accuracy',\n",
    "                          cv = 4,\n",
    "                          n_jobs = -1)"
   ]
  },
  {
   "cell_type": "code",
   "execution_count": 27,
   "metadata": {
    "colab": {
     "base_uri": "https://localhost:8080/",
     "height": 110
    },
    "colab_type": "code",
    "id": "hdBCGR12kQeA",
    "outputId": "c1b16eb2-a1d5-42eb-e921-d1a60b88d84b"
   },
   "outputs": [],
   "source": [
    "grid_search = grid_search.fit(x_train, y_train)"
   ]
  },
  {
   "cell_type": "code",
   "execution_count": 28,
   "metadata": {
    "colab": {
     "base_uri": "https://localhost:8080/",
     "height": 35
    },
    "colab_type": "code",
    "id": "oYCDbdtGkVdu",
    "outputId": "cb10c3ce-a4d5-4be9-9710-6e5f1a8e5689"
   },
   "outputs": [
    {
     "data": {
      "text/plain": [
       "{'C': 10, 'gamma': 0.1, 'kernel': 'rbf'}"
      ]
     },
     "execution_count": 28,
     "metadata": {},
     "output_type": "execute_result"
    }
   ],
   "source": [
    "grid_search.best_params_\n"
   ]
  },
  {
   "cell_type": "code",
   "execution_count": 29,
   "metadata": {
    "colab": {},
    "colab_type": "code",
    "id": "7m_yEKwfkdoL"
   },
   "outputs": [],
   "source": [
    "best_score = grid_search.best_score_"
   ]
  },
  {
   "cell_type": "code",
   "execution_count": 30,
   "metadata": {
    "colab": {
     "base_uri": "https://localhost:8080/",
     "height": 35
    },
    "colab_type": "code",
    "id": "5gi8PlL6kma5",
    "outputId": "5396b33f-fcd5-479c-ca5b-18fa30b77ec9"
   },
   "outputs": [
    {
     "data": {
      "text/plain": [
       "0.7142857142857143"
      ]
     },
     "execution_count": 30,
     "metadata": {},
     "output_type": "execute_result"
    }
   ],
   "source": [
    "best_score"
   ]
  },
  {
   "cell_type": "code",
   "execution_count": 31,
   "metadata": {
    "colab": {},
    "colab_type": "code",
    "id": "NoVJ36DskqaR"
   },
   "outputs": [],
   "source": [
    "optimized_classifier = SVC(kernel = 'rbf',\n",
    "                           C = 10,\n",
    "                           gamma = 0.1,\n",
    "                           probability = True)"
   ]
  },
  {
   "cell_type": "code",
   "execution_count": 32,
   "metadata": {
    "colab": {
     "base_uri": "https://localhost:8080/",
     "height": 90
    },
    "colab_type": "code",
    "id": "3SCTgKGykxSa",
    "outputId": "9d6d0fda-0087-468d-e702-deb927a3a361"
   },
   "outputs": [
    {
     "data": {
      "text/plain": [
       "SVC(C=10, cache_size=200, class_weight=None, coef0=0.0,\n",
       "    decision_function_shape='ovr', degree=3, gamma=0.1, kernel='rbf',\n",
       "    max_iter=-1, probability=True, random_state=None, shrinking=True, tol=0.001,\n",
       "    verbose=False)"
      ]
     },
     "execution_count": 32,
     "metadata": {},
     "output_type": "execute_result"
    }
   ],
   "source": [
    "optimized_classifier.fit(x_train, y_train)"
   ]
  },
  {
   "cell_type": "code",
   "execution_count": 33,
   "metadata": {
    "colab": {},
    "colab_type": "code",
    "id": "GwyQ9y1ik8sZ"
   },
   "outputs": [],
   "source": [
    "y_pred = optimized_classifier.predict(x_test)"
   ]
  },
  {
   "cell_type": "code",
   "execution_count": 34,
   "metadata": {
    "colab": {
     "base_uri": "https://localhost:8080/",
     "height": 35
    },
    "colab_type": "code",
    "id": "AHHW_LV6lsZH",
    "outputId": "284492fe-3690-48e0-c938-b2ddb8255796"
   },
   "outputs": [
    {
     "data": {
      "text/plain": [
       "array([1, 2, 1, 1, 1, 1, 1, 1, 2])"
      ]
     },
     "execution_count": 34,
     "metadata": {},
     "output_type": "execute_result"
    }
   ],
   "source": [
    "y_pred"
   ]
  },
  {
   "cell_type": "code",
   "execution_count": 35,
   "metadata": {
    "colab": {
     "base_uri": "https://localhost:8080/",
     "height": 292
    },
    "colab_type": "code",
    "id": "QrmtyUDdlxnz",
    "outputId": "ff6db057-254e-4cfb-c4ad-a7aedc19201d",
    "scrolled": true
   },
   "outputs": [
    {
     "name": "stdout",
     "output_type": "stream",
     "text": [
      "              precision    recall  f1-score   support\n",
      "\n",
      "           1       0.57      1.00      0.73         4\n",
      "           2       1.00      1.00      1.00         2\n",
      "           5       0.00      0.00      0.00         2\n",
      "           6       0.00      0.00      0.00         1\n",
      "\n",
      "    accuracy                           0.67         9\n",
      "   macro avg       0.39      0.50      0.43         9\n",
      "weighted avg       0.48      0.67      0.55         9\n",
      "\n"
     ]
    }
   ],
   "source": [
    "print(classification_report(y_test, y_pred))\n"
   ]
  },
  {
   "cell_type": "code",
   "execution_count": 36,
   "metadata": {},
   "outputs": [
    {
     "data": {
      "text/plain": [
       "array([1, 2, 1, 6, 5, 1, 1, 5, 2])"
      ]
     },
     "execution_count": 36,
     "metadata": {},
     "output_type": "execute_result"
    }
   ],
   "source": [
    "y_test"
   ]
  },
  {
   "cell_type": "code",
   "execution_count": 37,
   "metadata": {
    "colab": {},
    "colab_type": "code",
    "id": "M_k8GX00l3X8"
   },
   "outputs": [],
   "source": [
    "actual_output = lb.inverse_transform(y_pred)"
   ]
  },
  {
   "cell_type": "code",
   "execution_count": 38,
   "metadata": {
    "colab": {
     "base_uri": "https://localhost:8080/",
     "height": 72
    },
    "colab_type": "code",
    "id": "COxGbvbImxJb",
    "outputId": "ede7abb7-1e15-48f5-c49b-09b48f10810d"
   },
   "outputs": [
    {
     "data": {
      "text/plain": [
       "array(['details', 'good bye', 'details', 'details', 'details', 'details',\n",
       "       'details', 'details', 'good bye'], dtype='<U13')"
      ]
     },
     "execution_count": 38,
     "metadata": {},
     "output_type": "execute_result"
    }
   ],
   "source": [
    "actual_output"
   ]
  },
  {
   "cell_type": "markdown",
   "metadata": {},
   "source": [
    "# Pipeline for Intent Classification"
   ]
  },
  {
   "cell_type": "code",
   "execution_count": 39,
   "metadata": {},
   "outputs": [],
   "source": [
    "from sklearn.pipeline import Pipeline"
   ]
  },
  {
   "cell_type": "code",
   "execution_count": 40,
   "metadata": {},
   "outputs": [],
   "source": [
    "x_train_pip, x_test_pip, y_train_pip, y_test_pip = train_test_split(X,\n",
    "                                                                    Y,\n",
    "                                                                    test_size = 0.2,\n",
    "                                                                    random_state = 0)"
   ]
  },
  {
   "cell_type": "code",
   "execution_count": 41,
   "metadata": {
    "scrolled": true
   },
   "outputs": [
    {
     "name": "stdout",
     "output_type": "stream",
     "text": [
      "(35, 69) (35,)\n",
      "(9, 69) (9,)\n"
     ]
    }
   ],
   "source": [
    "print(x_train_pip.shape, y_train_pip.shape)\n",
    "print(x_test_pip.shape, y_test_pip.shape)"
   ]
  },
  {
   "cell_type": "markdown",
   "metadata": {},
   "source": [
    "# Creating a pipeline"
   ]
  },
  {
   "cell_type": "code",
   "execution_count": 42,
   "metadata": {},
   "outputs": [],
   "source": [
    "steps = [('SVM', SVC())]\n",
    "pipeline = Pipeline(steps) # definining the pipeline object."
   ]
  },
  {
   "cell_type": "markdown",
   "metadata": {},
   "source": [
    "# Grid Search"
   ]
  },
  {
   "cell_type": "code",
   "execution_count": 43,
   "metadata": {},
   "outputs": [],
   "source": [
    "parameters = [{'SVM__C': [1,10,100, 1000], 'SVM__kernel': ['linear']},\n",
    "             {'SVM__C' : [1,10,100,1000], 'SVM__kernel': ['rbf'], 'SVM__gamma' : [0.5, 0.1, 0.01, 0.001]}]\n",
    "\n",
    "grid_search = GridSearchCV(pipeline,\n",
    "                          param_grid = parameters,\n",
    "                          scoring = 'accuracy',\n",
    "                          cv = 4,\n",
    "                          n_jobs = -1)"
   ]
  },
  {
   "cell_type": "code",
   "execution_count": 44,
   "metadata": {
    "scrolled": false
   },
   "outputs": [
    {
     "data": {
      "text/plain": [
       "GridSearchCV(cv=4, error_score='raise-deprecating',\n",
       "             estimator=Pipeline(memory=None,\n",
       "                                steps=[('SVM',\n",
       "                                        SVC(C=1.0, cache_size=200,\n",
       "                                            class_weight=None, coef0=0.0,\n",
       "                                            decision_function_shape='ovr',\n",
       "                                            degree=3, gamma='auto_deprecated',\n",
       "                                            kernel='rbf', max_iter=-1,\n",
       "                                            probability=False,\n",
       "                                            random_state=None, shrinking=True,\n",
       "                                            tol=0.001, verbose=False))],\n",
       "                                verbose=False),\n",
       "             iid='warn', n_jobs=-1,\n",
       "             param_grid=[{'SVM__C': [1, 10, 100, 1000],\n",
       "                          'SVM__kernel': ['linear']},\n",
       "                         {'SVM__C': [1, 10, 100, 1000],\n",
       "                          'SVM__gamma': [0.5, 0.1, 0.01, 0.001],\n",
       "                          'SVM__kernel': ['rbf']}],\n",
       "             pre_dispatch='2*n_jobs', refit=True, return_train_score=False,\n",
       "             scoring='accuracy', verbose=0)"
      ]
     },
     "execution_count": 44,
     "metadata": {},
     "output_type": "execute_result"
    }
   ],
   "source": [
    "grid_search.fit(x_train_pip, y_train_pip)"
   ]
  },
  {
   "cell_type": "markdown",
   "metadata": {},
   "source": [
    "# Checking The accuracy"
   ]
  },
  {
   "cell_type": "code",
   "execution_count": 48,
   "metadata": {},
   "outputs": [],
   "source": [
    "score = grid_search.score(x_test_pip,y_test_pip)"
   ]
  },
  {
   "cell_type": "code",
   "execution_count": 49,
   "metadata": {
    "scrolled": true
   },
   "outputs": [
    {
     "data": {
      "text/plain": [
       "0.6666666666666666"
      ]
     },
     "execution_count": 49,
     "metadata": {},
     "output_type": "execute_result"
    }
   ],
   "source": [
    "score"
   ]
  },
  {
   "cell_type": "markdown",
   "metadata": {},
   "source": [
    "# Getting the predictions obtained using grid search"
   ]
  },
  {
   "cell_type": "code",
   "execution_count": 54,
   "metadata": {},
   "outputs": [
    {
     "data": {
      "text/plain": [
       "Pipeline(memory=None,\n",
       "         steps=[('SVM',\n",
       "                 SVC(C=10, cache_size=200, class_weight=None, coef0=0.0,\n",
       "                     decision_function_shape='ovr', degree=3, gamma=0.1,\n",
       "                     kernel='rbf', max_iter=-1, probability=False,\n",
       "                     random_state=None, shrinking=True, tol=0.001,\n",
       "                     verbose=False))],\n",
       "         verbose=False)"
      ]
     },
     "execution_count": 54,
     "metadata": {},
     "output_type": "execute_result"
    }
   ],
   "source": [
    "grid_search.best_estimator_"
   ]
  },
  {
   "cell_type": "code",
   "execution_count": 50,
   "metadata": {},
   "outputs": [],
   "source": [
    "pred = grid_search.best_estimator_.predict(x_test_pip)"
   ]
  },
  {
   "cell_type": "code",
   "execution_count": 51,
   "metadata": {},
   "outputs": [
    {
     "data": {
      "text/plain": [
       "array([1, 2, 1, 1, 1, 1, 1, 1, 2])"
      ]
     },
     "execution_count": 51,
     "metadata": {},
     "output_type": "execute_result"
    }
   ],
   "source": [
    "pred"
   ]
  },
  {
   "cell_type": "code",
   "execution_count": 52,
   "metadata": {},
   "outputs": [],
   "source": [
    "predictions = lb.inverse_transform(pred)"
   ]
  },
  {
   "cell_type": "code",
   "execution_count": 53,
   "metadata": {},
   "outputs": [
    {
     "data": {
      "text/plain": [
       "array(['details', 'good bye', 'details', 'details', 'details', 'details',\n",
       "       'details', 'details', 'good bye'], dtype='<U13')"
      ]
     },
     "execution_count": 53,
     "metadata": {},
     "output_type": "execute_result"
    }
   ],
   "source": [
    "predictions"
   ]
  },
  {
   "cell_type": "code",
   "execution_count": null,
   "metadata": {},
   "outputs": [],
   "source": []
  }
 ],
 "metadata": {
  "colab": {
   "collapsed_sections": [],
   "name": "rasabot.ipynb",
   "provenance": []
  },
  "kernelspec": {
   "display_name": "Python 3",
   "language": "python",
   "name": "python3"
  },
  "language_info": {
   "codemirror_mode": {
    "name": "ipython",
    "version": 3
   },
   "file_extension": ".py",
   "mimetype": "text/x-python",
   "name": "python",
   "nbconvert_exporter": "python",
   "pygments_lexer": "ipython3",
   "version": "3.7.5"
  }
 },
 "nbformat": 4,
 "nbformat_minor": 1
}
